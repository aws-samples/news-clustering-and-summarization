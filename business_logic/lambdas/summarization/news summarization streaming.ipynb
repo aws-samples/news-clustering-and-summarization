{
 "cells": [
  {
   "cell_type": "markdown",
   "id": "fded102b",
   "metadata": {},
   "source": [
    "# Title summary generation using Bedrock APIs\n"
   ]
  },
  {
   "cell_type": "markdown",
   "id": "b63a3c03-0f6d-42dd-9e31-cb9dbd7347fc",
   "metadata": {
    "tags": []
   },
   "source": [
    "### Imports"
   ]
  },
  {
   "cell_type": "code",
   "execution_count": 2,
   "id": "7d56d068-2b8f-4e54-9c22-c356b2bdf883",
   "metadata": {
    "tags": []
   },
   "outputs": [],
   "source": [
    "import json\n",
    "import os\n",
    "import sys\n",
    "import pandas as pd\n",
    "from time import time\n",
    "from tqdm import tqdm\n",
    "import threading\n"
   ]
  },
  {
   "cell_type": "code",
   "execution_count": 3,
   "id": "78d739ed-b008-4d5e-b9bd-a4c5b8fea9c7",
   "metadata": {
    "tags": []
   },
   "outputs": [],
   "source": [
    "# if 100k file \n",
    "# with open('data/110kclusters_eps0.05.json') as data_file:\n",
    "with open('data/clusters_eps-0.15.json') as data_file:\n",
    "    file_contents = data_file.read()\n",
    "    parsed_json = json.loads(file_contents)"
   ]
  },
  {
   "cell_type": "markdown",
   "id": "9977f205-c0d0-4f0f-90dc-ffe1a0085924",
   "metadata": {},
   "source": []
  },
  {
   "cell_type": "markdown",
   "id": "4fb5a001-84eb-4ec8-aebc-b4b215c4b597",
   "metadata": {},
   "source": [
    "# Manually process streaming articles, then summarize"
   ]
  },
  {
   "cell_type": "code",
   "execution_count": 4,
   "id": "84ca1ad3-127a-4123-a58f-8cae292a6fe2",
   "metadata": {
    "tags": []
   },
   "outputs": [
    {
     "name": "stdout",
     "output_type": "stream",
     "text": [
      "Total number of cluster is 330, total number of articles is 1382\n",
      "The top 10 number of cluster has the following number of articles: [('0', 86), ('69', 45), ('24', 31), ('60', 30), ('79', 30), ('137', 26), ('14', 25), ('126', 19), ('18', 18), ('51', 17)]\n"
     ]
    }
   ],
   "source": [
    "# get only the clusters from the output and sort the articles in chronical order\n",
    "# if 100k file\n",
    "# cluster_info = {cluster:sorted(parsed_json[cluster], key=lambda x:x['publication_date'], reverse=False) for cluster in parsed_json.keys() if 'cluster' in cluster}\n",
    "cluster_info = {cluster:sorted(parsed_json[cluster], key=lambda x:x['publication_date'], reverse=False) for cluster in parsed_json.keys() if int(cluster)>=0}\n",
    "# check the clusters article numbers\n",
    "art_num = sorted([(key, len(cluster_info[key])) for key in cluster_info.keys()], key=lambda x:x[1], reverse=True)\n",
    "print('Total number of cluster is %s, total number of articles is %s' % (len(cluster_info), sum([ii[1] for ii in art_num])))\n",
    "print('The top 10 number of cluster has the following number of articles:', art_num[:10])"
   ]
  },
  {
   "cell_type": "code",
   "execution_count": 5,
   "id": "12da7783-59a2-4a11-9142-a5e23bca1f1c",
   "metadata": {
    "tags": []
   },
   "outputs": [],
   "source": [
    "# Step 2. remove duplicates in each of the clusters\n",
    "from sklearn.feature_extraction.text import TfidfVectorizer\n",
    "from sklearn.metrics.pairwise import cosine_similarity\n",
    "import numpy as np\n",
    "def remove_dup_article(cluster, threshold):\n",
    "    \"\"\"\n",
    "    # for each of the cluster, use tfidf for the headline and summary, \n",
    "    # return the index of the earlier articles. \n",
    "    input: cluster -> list of dictionary \n",
    "    return list of dictionary where the output are dedeplicated. \n",
    "    \"\"\"\n",
    "    summary_corps = [ids['headline'] + ids['summary'] for ids in cluster]\n",
    "    vectorizer = TfidfVectorizer(lowercase=True, stop_words='english')\n",
    "    \n",
    "    try: \n",
    "        tfidf_matrix = vectorizer.fit_transform(summary_corps)\n",
    "        similarity_score = tfidf_matrix * tfidf_matrix.T.A\n",
    "        dup_idx = set([min(x, y) for x, y in zip(*np.where(similarity_score > threshold)) if x != y])\n",
    "        if len(dup_idx) >= 5:\n",
    "            print(f\"there are {len(dup_idx)} duplicate articles removed from {cluster[0]['object_id']}\")\n",
    "        return [d for i, d in enumerate(cluster) if i not in dup_idx]\n",
    "    except:\n",
    "        return cluster"
   ]
  },
  {
   "cell_type": "code",
   "execution_count": 6,
   "id": "afa3410e-8124-4270-beb2-9957091ee75d",
   "metadata": {
    "tags": []
   },
   "outputs": [
    {
     "name": "stdout",
     "output_type": "stream",
     "text": [
      "total time cost for deduplicate is 0.99s\n",
      "Total number of cluster is 330, total number of articles is 1262\n",
      "The top 10 number of cluster has the following number of articles: [('0', 86), ('69', 45), ('24', 31), ('60', 30), ('79', 27), ('14', 25), ('137', 24), ('126', 19), ('51', 17), ('18', 16)]\n"
     ]
    }
   ],
   "source": [
    "start_time = time()\n",
    "cluster_dedup = {cluster: remove_dup_article(cluster_info[cluster], 0.9) for cluster in cluster_info.keys()}\n",
    "print('total time cost for deduplicate is %3.2fs' % (time()-start_time))\n",
    "dedup_num = sorted([(key, len(cluster_dedup[key])) for key in cluster_dedup.keys()], key=lambda x:x[1], reverse=True)\n",
    "print('Total number of cluster is %s, total number of articles is %s' % (len(cluster_dedup), sum([ii[1] for ii in dedup_num])))\n",
    "print('The top 10 number of cluster has the following number of articles:', dedup_num[:10])"
   ]
  },
  {
   "cell_type": "code",
   "execution_count": 61,
   "id": "96547f09-dc1c-4f0b-8543-bf202adf87a5",
   "metadata": {
    "tags": []
   },
   "outputs": [],
   "source": [
    "# Genearte summarization \n",
    "import boto3\n",
    "def generate_bedrock_claude(input_tokens,\n",
    "                            bedrock_client = boto3.client('bedrock-runtime'),\n",
    "                            modelId = 'anthropic.claude-instant-v1'):\n",
    "    claude_body = {\n",
    "        'modelId': modelId,\n",
    "        'body': json.dumps({\n",
    "            \"prompt\": f\"\\n\\nHuman: {input_tokens}\\n\\nAssistant: \", \n",
    "            \"max_tokens_to_sample\": 500, # the higher this is the longer it takes\n",
    "            \"temperature\": 0.1, # these parameters affect response diversity\n",
    "            \"top_p\": 1, \n",
    "            \"top_k\": 100,\n",
    "        })\n",
    "    }\n",
    "    bedrock_response = bedrock_client.invoke_model(\n",
    "        **claude_body,\n",
    "        accept=\"*/*\",\n",
    "        contentType=\"application/json\",\n",
    "    )\n",
    "    body = bedrock_response.get(\"body\")\n",
    "    rd = body.read()\n",
    "    try:\n",
    "        response = eval(rd)['completion']\n",
    "        output_token_cnt = int(\n",
    "            bedrock_response[\"ResponseMetadata\"][\"HTTPHeaders\"].get(\n",
    "                \"x-amzn-bedrock-output-token-count\"\n",
    "                )\n",
    "            )\n",
    "        input_token_cnt = int(\n",
    "            bedrock_response[\"ResponseMetadata\"][\"HTTPHeaders\"].get(\n",
    "                \"x-amzn-bedrock-input-token-count\"\n",
    "                    )\n",
    "            )\n",
    "    except:\n",
    "        print(rd)\n",
    "    return input_token_cnt, output_token_cnt, response\n",
    "\n",
    "def parse_res(res):\n",
    "    try:\n",
    "        title = res.split('<title>')[-1].split('</title>')[0]\n",
    "        summary = res.split('<summary>')[-1].split('</summary>')[0]\n",
    "        return f\"Title:{title} \\nSummary:{summary}\"\n",
    "    except:\n",
    "        return res\n",
    "def generate_cluster_summary(cluster, num_sum=20):\n",
    "    cluster_sum = ['']\n",
    "    input_context = []\n",
    "    inputs = '\\n'.join([f\"headline: {article['headline']}, summary: {article['summary']}\" for article in cluster])\n",
    "    input_token_num = 0\n",
    "    output_token_num = 0\n",
    "    try:\n",
    "        for ii in range(0, len(cluster), num_sum):\n",
    "            instructions = \"You will be provided with multiple sets of headlines and summaries from different articles in <context> tag, and the current title and summary for a story in <story> tag. Compile, summarize and update the current title and summary for the story. The summary should be less than 100 words. Put the generated context inside <title> and <summary> tag. Do not hallucinate or make up content.\\n\\n\"\n",
    "            texts = '\\n'.join([f\"headline: {article['headline']}, summary: {article['summary']}\" for article in cluster[ii:ii+num_sum]])\n",
    "            prompt = f\"{instructions} <story> \\n{cluster_sum[-1]} </story> \\n\\n <context>\\n{texts}\\n</context>\\n\"\n",
    "            input_context.append(prompt)\n",
    "            output = generate_bedrock_claude(prompt[:120000])\n",
    "            input_token_num += output[0]\n",
    "            output_token_num += output[1]\n",
    "            response = parse_res(output[2])\n",
    "            cluster_sum.append(response)\n",
    "        return '\\n\\n'.join([f'Iteration {ii} generated results: \\n{text}' for ii, text in enumerate(cluster_sum[1:])]), input_token_num, output_token_num, inputs\n",
    "    except:\n",
    "        print(cluster[0]['est_cluster'])\n",
    "\n",
    "import asyncio\n",
    "async def async_generate_cluster_summary(cluster):\n",
    "    return await asyncio.to_thread(generate_cluster_summary, cluster)"
   ]
  },
  {
   "cell_type": "code",
   "execution_count": 62,
   "id": "2a80e111-6bfc-4b61-80bf-b402136ad7ba",
   "metadata": {
    "tags": []
   },
   "outputs": [
    {
     "name": "stdout",
     "output_type": "stream",
     "text": [
      "total run time is 135.39s\n"
     ]
    }
   ],
   "source": [
    "\n",
    "start_time = time()\n",
    "results = await asyncio.gather(*(async_generate_cluster_summary(cluster_dedup[cluster]) for cluster in cluster_dedup.keys()))\n",
    "print(\"total run time is %3.2fs\" % (time()-start_time))\n"
   ]
  },
  {
   "cell_type": "code",
   "execution_count": 63,
   "id": "455ba44e-c44b-4270-a069-451a458e9eb5",
   "metadata": {
    "tags": []
   },
   "outputs": [],
   "source": [
    "# results analysis part\n",
    "outputs = []\n",
    "for ii, key in enumerate(cluster_dedup.keys()):\n",
    "    try:\n",
    "        response, input_token_num, output_token_num, input_text = results[ii]\n",
    "        # inputs = [ids['headline'] + ids['summary'] for ids in cluster_dedup[key]]\n",
    "        outputs.append((key, input_text, input_token_num, len(cluster_dedup[key]), response))\n",
    "    except:\n",
    "        print(key)"
   ]
  },
  {
   "cell_type": "code",
   "execution_count": 65,
   "id": "3224b1a8-ead2-4833-95fb-190587d3565c",
   "metadata": {
    "tags": []
   },
   "outputs": [
    {
     "data": {
      "text/html": [
       "<div>\n",
       "<style scoped>\n",
       "    .dataframe tbody tr th:only-of-type {\n",
       "        vertical-align: middle;\n",
       "    }\n",
       "\n",
       "    .dataframe tbody tr th {\n",
       "        vertical-align: top;\n",
       "    }\n",
       "\n",
       "    .dataframe thead th {\n",
       "        text-align: right;\n",
       "    }\n",
       "</style>\n",
       "<table border=\"1\" class=\"dataframe\">\n",
       "  <thead>\n",
       "    <tr style=\"text-align: right;\">\n",
       "      <th></th>\n",
       "      <th>cluster_id</th>\n",
       "      <th>inputs</th>\n",
       "      <th>input_token</th>\n",
       "      <th>article_num</th>\n",
       "      <th>generate_text</th>\n",
       "    </tr>\n",
       "  </thead>\n",
       "  <tbody>\n",
       "    <tr>\n",
       "      <th>0</th>\n",
       "      <td>0</td>\n",
       "      <td>headline: Shooting in France shows US is not a...</td>\n",
       "      <td>8205</td>\n",
       "      <td>86</td>\n",
       "      <td>Iteration 0 generated results: \\nTitle:\\nRiots...</td>\n",
       "    </tr>\n",
       "    <tr>\n",
       "      <th>1</th>\n",
       "      <td>1</td>\n",
       "      <td>headline: AP News in Brief at 11:04 pm EDT , s...</td>\n",
       "      <td>506</td>\n",
       "      <td>5</td>\n",
       "      <td>Iteration 0 generated results: \\nTitle:Supreme...</td>\n",
       "    </tr>\n",
       "    <tr>\n",
       "      <th>2</th>\n",
       "      <td>2</td>\n",
       "      <td>headline: NSW: Thousands delayed as winds forc...</td>\n",
       "      <td>845</td>\n",
       "      <td>9</td>\n",
       "      <td>Iteration 0 generated results: \\nTitle:\\nSydne...</td>\n",
       "    </tr>\n",
       "    <tr>\n",
       "      <th>3</th>\n",
       "      <td>3</td>\n",
       "      <td>headline: Europeaposs Euclid space telescope s...</td>\n",
       "      <td>921</td>\n",
       "      <td>9</td>\n",
       "      <td>Iteration 0 generated results: \\nTitle:\\nEurop...</td>\n",
       "    </tr>\n",
       "    <tr>\n",
       "      <th>4</th>\n",
       "      <td>4</td>\n",
       "      <td>headline: Ugle-Hagan shines as Bulldogs disman...</td>\n",
       "      <td>521</td>\n",
       "      <td>4</td>\n",
       "      <td>Iteration 0 generated results: \\nTitle:\\nUgle-...</td>\n",
       "    </tr>\n",
       "  </tbody>\n",
       "</table>\n",
       "</div>"
      ],
      "text/plain": [
       "  cluster_id                                             inputs  input_token  \\\n",
       "0          0  headline: Shooting in France shows US is not a...         8205   \n",
       "1          1  headline: AP News in Brief at 11:04 pm EDT , s...          506   \n",
       "2          2  headline: NSW: Thousands delayed as winds forc...          845   \n",
       "3          3  headline: Europeaposs Euclid space telescope s...          921   \n",
       "4          4  headline: Ugle-Hagan shines as Bulldogs disman...          521   \n",
       "\n",
       "   article_num                                      generate_text  \n",
       "0           86  Iteration 0 generated results: \\nTitle:\\nRiots...  \n",
       "1            5  Iteration 0 generated results: \\nTitle:Supreme...  \n",
       "2            9  Iteration 0 generated results: \\nTitle:\\nSydne...  \n",
       "3            9  Iteration 0 generated results: \\nTitle:\\nEurop...  \n",
       "4            4  Iteration 0 generated results: \\nTitle:\\nUgle-...  "
      ]
     },
     "execution_count": 65,
     "metadata": {},
     "output_type": "execute_result"
    }
   ],
   "source": [
    "df_outputs = pd.DataFrame(outputs, columns=['cluster_id', 'inputs', 'input_token', 'article_num', 'generate_text'])\n",
    "df_outputs.head()"
   ]
  },
  {
   "cell_type": "code",
   "execution_count": 66,
   "id": "4273d1d3-6eb6-4a47-a2d5-a282c0361e63",
   "metadata": {
    "tags": []
   },
   "outputs": [],
   "source": [
    "df_outputs.to_csv('new_data_summary_claude_instant_5.csv', index=False)"
   ]
  },
  {
   "cell_type": "code",
   "execution_count": 11,
   "id": "103b0d42-4003-48aa-95c5-2d14ce837840",
   "metadata": {
    "tags": []
   },
   "outputs": [
    {
     "data": {
      "text/plain": [
       "'2023-07-03T19:40:00Z'"
      ]
     },
     "execution_count": 11,
     "metadata": {},
     "output_type": "execute_result"
    }
   ],
   "source": [
    "cluster_dedup['0'][-1]['publication_date']"
   ]
  },
  {
   "cell_type": "code",
   "execution_count": 24,
   "id": "5b385eae-d761-4669-a3a7-939dd00321ec",
   "metadata": {
    "tags": []
   },
   "outputs": [
    {
     "name": "stdout",
     "output_type": "stream",
     "text": [
      "You will be provided with multiple sets of headlines and summaries from different articles in <context> tag, and the current title and summary for a story in <story> tag. Compile, summarize and update the current title and summary for the story. The summary should be less than 100 words. Put the generated context inside <title> and <summary> tag. Do not hallucinate or make up content.\n",
      "\n",
      " <story> \n",
      " </story> \n",
      "\n",
      " <context>\n",
      "headline: Shooting in France shows US is not alone in struggles with racism police brutality , summary: The events in France following the death of a 17- year-old shot by police in a Paris suburb are drawing parallels to the racial reckoning in the US spurred by the killings of George Floyd and other people of color at the hands of law enforcement Despite the differences between the two countriesapos cultures police forces and communities the shooting in France and\n",
      "headline: Clashes continue for fourth night of riots after fatal police shooting in France , summary: While the situation appeared to be somewhat calmer compared to previous nights turmoil gripped several cities across the country\n",
      "headline: Hundreds more arrested in France unrest but violence 'less intense' , summary: France deployed 45000 officers backed by light armoured vehicles while crack police units and other security forces fanned out across the country to quell violence over the death of 17- year-old Nahel killed during a traffic stop in a Paris suburb on Tuesday Despite the security presence looting took place Friday night in the cities of Marseille Lyon and\n",
      "headline: More than 1300 arrested overnight as rioters clash with police around France , summary: The deadly shooting of a 17-year-old boy by a police officer has sparked riots across the country\n",
      "headline: Almost 1000 arrests after fourth night of riots in France , summary: Paris- Riots over police brutality hit French cities again on Friday for the fourth night in a row and nearly 1000 people were arrested despite a massive security presence and the closing of transport lines The unrest triggered by Tuesdayaposs fatal shooting of a 17- year-old driver by police during a traffic check has also been reported in French overseas\n",
      "headline: Police arrest 1000 in French riots ahead of teen's funeral , summary: Violence and looting hit France in a fourth night of protests as massively deployed police made nearly 1000 arrests and the country braced for more riots ahead of the funeral Saturday of the teenager who was killed by an officer during a traffic stop The clashes continued despite France deploying 45000 officers the highest number of any night since the\n",
      "headline: UPDATE\n",
      "Almost 1000 arrests after fourth night of riots in France , summary: Paris- Riots over police brutality hit French cities again on Friday for the fourth night in a row and nearly 1000 people were arrested despite a massive security presence and the closing of transport lines The unrest triggered by Tuesdayaposs fatal shooting of a 17- year-old driver by police during a traffic check has also been reported in French overseas\n",
      "headline: Over 1300 arrests in fourth night of unrest in France , summary: Paris Jul 1- At least 1311 people were arrested in France and 79 police officers were injured in the fourth consecutive night of riots after police killed a teenager earlier in the week authorities reported on Saturday Franceaposs interior ministry reported on the latest number of arrests during the riots that have rocked the country following the death of\n",
      "headline: 1ST LEAD\n",
      "Over 1300 arrests after fourth night of riots in France\n",
      "By Jrgen Btz and Regina Wank dpa , summary: Paris- More than 1300 people were arrested as riots over police brutality hit French cities again for the fourth night in a row despite a massive security presence and the closing of transport lines authorities said on Saturday A total of 1311 rioters were arrested and 79 police officers injured overnight the Interior Ministry said on Saturday updating\n",
      "headline: Over 1300 arrests after fourth night of riots in France , summary: By Jrgen Btz and Regina Wank dpa A total of 1311 rioters were arrested and 79 police officers injured overnight the Interior Ministry said on Saturday updating earlier figures given by the authorities who had spoken of almost 1000 arrests The unrest triggered by Tuesdayaposs fatal shooting of a 17- year-old driver by police during a traffic check has\n",
      "headline: Police report 1300 French riot arrests as teen's funeral begins , summary: Violence and looting hit France in a fourth night of protests as police who were deployed in force made more than 1300 arrests and the country braced for more clashes as the funeral began Saturday of the teenager who was killed by an officer during a traffic stop The clashes continued despite France deploying 45000 officers more than on any night since the\n",
      "headline: aposNot a new phenomenonapos: Fatal police shooting in France reignites unrest protests France police shooting protests renew debate over police brutality, racism, summary: Protests over the shooting are likely the result of increased deadly police encounters and tensions between police and people of color experts said\n",
      "headline: French President Emmanuel Macron postpones state visit to Germany because of unrest in France German authorities say , summary: French President Emmanuel Macron postpones state visit to Germany because of unrest in France German authorities say\n",
      "headline: Macron postpones state visit to Germany amid France riots: Berlin , summary: French President Emmanuel Macron has postponed a state visit to Germany due to have begun Sunday the German presidency announced following four days of riots in France  \"President Macron asked for a postponement of his planned state visit to Germany\" it added The Elysee said separately that Macron had expressed his wish to remain in France in the coming days\n",
      "headline: Macron postpones Germany visit amid riots in France , summary: Berlin- French President Emmanuel Macron is postponing his visit to Germany due to rioting in France Germanyaposs Office of the Federal President says\n",
      "headline: URGENT:  Macron postpones Germany visit amid riots in France , summary: BERLIN- French President Emmanuel Macron is postponing his visit to Germany due to rioting in France Germanyaposs Office of the Federal President says\n",
      "headline: Riots in France force Macron to postpone state visit to Germany , summary: BERLIN- French President Emmanuel Macron has postponed a state visit to Germany that was to begin on Sunday after four days of nationwide riots since the police killing of a teen presented him with one of the biggest crises of his leadership It was the second time this year that unrest in France has forced Macron to postpone high profile encounters with a head of\n",
      "headline: DEVELOPING\n",
      "French President Macron postpones Germany visit amid riots in France , summary: Berlin- French President Emmanuel Macron is postponing his visit to Germany due to rioting in France Germanyaposs Office of the Federal President said on Saturday Macron was initially due to come to Germany on Monday and Tuesday but asked for the trip to be postponed the office said in a statement Macron telephoned Steinmeier on Saturday afternoon to tell him\n",
      "headline: Macron cancels trip over French riots as family buries teenager , summary: PARIS- More than 1300 people were arrested in France during a fourth night of rioting and President Emmanuel Macron cancelled a trip to Germany on Saturday as the funeral took place of teenager Nahel M whose shooting by police sparked nationwide unrest Macronaposs government deployed 45000 police officers as well as armoured vehicles overnight to tackle\n",
      "headline: Macron shelves Germany state visit over France riots crisis , summary: President Emmanuel Macron on Saturday postponed a state visit to Germany in order to deal with the urban rioting that has rocked France for the last four nights as the 17- year-old whose killing by police sparked the protests was laid to rest The protests over the death of the teen who was of Algerian origin have again exposed the severe racial tensions in\n",
      "</context>\n",
      "\n"
     ]
    }
   ],
   "source": [
    "print(df_outputs.loc[0, 'inputs'][0])"
   ]
  },
  {
   "cell_type": "code",
   "execution_count": 25,
   "id": "42db01e7-2763-4d87-9114-bcf5c28d8f40",
   "metadata": {
    "tags": []
   },
   "outputs": [
    {
     "name": "stdout",
     "output_type": "stream",
     "text": [
      "Title:\n",
      "Riots in France force Macron to postpone state visit to Germany\n",
      " \n",
      "Summary:\n",
      "French President Emmanuel Macron postponed a state visit to Germany that was scheduled to begin on Sunday after four consecutive nights of nationwide riots in France following the police killing of a 17-year-old teenager. Over 1300 people were arrested during the fourth night of unrest as tensions remain high. The riots have exposed issues of police brutality and racial inequality in France. Macron cancelled the trip to focus on dealing with the crisis within his own country.\n",
      "\n",
      "Title:\n",
      "Riots in France force Macron to postpone state visit to Germany and meet mayors\n",
      " \n",
      "Summary:\n",
      "French President Emmanuel Macron postponed a state visit to Germany and cancelled a trip to meet German leaders to focus on dealing with riots in France after the police killing of a 17-year-old teenager. Over 1300 people have been arrested during the riots across major cities in France. Macron is set to meet several mayors to address the issues of police brutality and racial inequality that have sparked the unrest. The funeral for the teenager was held with no journalists present as requested by the family.\n",
      "\n",
      "Title:\n",
      "Riots continue in France as mayor's home attacked, over 700 arrested\n",
      " \n",
      "Summary:\n",
      "Rioting continued across France for a fifth night, though authorities reported it was less intense than previous nights. Over 700 people were arrested as pockets of violence broke out in major cities. In a shocking incident, rioters rammed a car into the home of a mayor near Paris and set it on fire, injuring his wife and child. The grandmother of the slain teenager whose death sparked the unrest called for calm.\n",
      "\n",
      "Title:\n",
      "Rioting continues to ease in France as firefighters death investigated\n",
      " \n",
      "Summary:\n",
      "Rioting continued across France for a sixth night but with fewer arrests reported than previous nights. A 24-year-old firefighter died while trying to extinguish burning vehicles in a Paris suburb, though the cause is still being investigated. Mayors held rallies calling for calm and a return to order. The grandmother of the slain teenager whose death sparked the unrest had previously urged an end to the violence.\n",
      "\n",
      "Title:\n",
      "Rioting continues to ease in France as firefighter's death is investigated and mayors call for calm\n",
      " \n",
      "Summary:\n",
      "Rioting continued across France for a sixth night but with fewer arrests reported than previous nights. A 24-year-old firefighter died while trying to extinguish burning vehicles in a Paris suburb, though the cause is still being investigated. Mayors across France held rallies calling for an end to the violent clashes and a return to \"republican order\". France mobilized 45,000 police officers to deal with feared riots, with the government saying the situation remained unsettled despite reduced violence.\n",
      "\n"
     ]
    }
   ],
   "source": [
    "for ii in range(5):\n",
    "    print(df_outputs.loc[0, 'outputs'][ii])"
   ]
  },
  {
   "cell_type": "code",
   "execution_count": 71,
   "id": "c39ed1a0-b35a-4f64-8588-877edceb52d0",
   "metadata": {},
   "outputs": [
    {
     "data": {
      "text/plain": [
       "('173',\n",
       " 'headline: Hajj 2023 - 13 Nigerian Pilgrims Die in Saudi Arabia - NAHCON , summary: Thirteen pilgrims from Nigeria have so far died in the course of the 2023 Hajj in Saudi Arabia the National Hajj Commission of Nigeria has said In his presentation Mr Galadima said seven pilgrims died before Mishaaposir while another six died during the Mishaaposir Osun and Kaduna states recorded two fatalities each while Plateau Kaduna Borno Yobe Lagos and Benue\\nheadline: Nigerian Pilgrimsapos Death Toll Hits 13 As 41632 Fall Sick in Saudi Arabia , summary: The head of the Nigerian medical team for the pilgrimage Dr Usman Galadima stated this Sunday night in Makkah during post-Arafat review session He said his team made consultations for 25772 pilgrims during the Muna-Arafat period in addition to the 15680 treated in Madinah and Makkah during the pre-Arafat period He gave the breakdown of the casualties as:',\n",
       " 330,\n",
       " 2,\n",
       " 'Iteration 0 generated results: \\nTitle:Summary: Death toll rises among Nigerian Hajj pilgrims as over 41,000 fall sick in Saudi Arabia \\nSummary:According to officials from the National Hajj Commission of Nigeria (NAHCON), the death toll among Nigerian pilgrims performing the Hajj this year has risen to 13 with over 41,632 falling sick so far in Saudi Arabia. The head of the Nigerian medical team reported that 7 pilgrims died before the Mishaaposir ritual while another 6 died during Mishaaposir, with states like Osun, Kaduna, Plateau recording multiple deaths. He also stated that the medical team provided consultations for over 25,772 pilgrims during Muna-Arafat and treated over 15,680 pilgrims in Madinah and Makkah during the pre-Arafat period.')"
      ]
     },
     "execution_count": 71,
     "metadata": {},
     "output_type": "execute_result"
    }
   ],
   "source": [
    "outputs[173]"
   ]
  },
  {
   "cell_type": "code",
   "execution_count": 75,
   "id": "272ff6ba-8369-4be4-973a-951559c48459",
   "metadata": {},
   "outputs": [
    {
     "name": "stdout",
     "output_type": "stream",
     "text": [
      "Iteration 0 generated results: \n",
      "Title:\n",
      "Fremantle star Nat Fyfe suffers another setback with foot injury\n",
      " \n",
      "Summary:\n",
      "Fremantle midfielder Nat Fyfe was substituted out of his team's loss to the Western Bulldogs on Saturday due to a flare up of his troublesome left foot injury. Scans later revealed the dual Brownlow medalist had suffered a stress fracture in the same foot, which has been plaguing him throughout the season. It is another setback for Fyfe and Fremantle, who still hope their champion can return before the end of the year to help their finals push, but will need to carefully manage the injury.\n",
      "\n"
     ]
    }
   ],
   "source": [
    "print(generate_cluster_summary(cluster_dedup['9'])[0])"
   ]
  },
  {
   "cell_type": "code",
   "execution_count": 74,
   "id": "31f005dd-5cc9-471b-8f55-6dab9e422ce2",
   "metadata": {
    "tags": []
   },
   "outputs": [
    {
     "name": "stdout",
     "output_type": "stream",
     "text": [
      "Iteration 0 generated results: \n",
      "Title:Summary: Death toll rises among Nigerian Hajj pilgrims as over 41,000 fall sick in Saudi Arabia \n",
      "Summary:According to officials from the National Hajj Commission of Nigeria (NAHCON), the death toll among Nigerian pilgrims performing the Hajj this year has increased to 13 with over 41,632 falling sick so far in Saudi Arabia. The head of the Nigerian medical team reported that 7 pilgrims died before the Mishaaposir ritual while another 6 died during Mishaaposir, with Osun, Kaduna, Plateau, Borno, Yobe, Lagos and Benue states recording casualties. The medical team provided consultations for over 25,000 pilgrims during Arafat and treated over 15,000 in Madinah and Makkah during the pre-Arafat period.\n"
     ]
    }
   ],
   "source": [
    "print(generate_cluster_summary(cluster_dedup['173'])[0])"
   ]
  },
  {
   "cell_type": "code",
   "execution_count": null,
   "id": "fceb3b61-fb56-4e31-87e7-8dc7f1d8ae02",
   "metadata": {},
   "outputs": [],
   "source": []
  }
 ],
 "metadata": {
  "availableInstances": [
   {
    "_defaultOrder": 0,
    "_isFastLaunch": true,
    "category": "General purpose",
    "gpuNum": 0,
    "hideHardwareSpecs": false,
    "memoryGiB": 4,
    "name": "ml.t3.medium",
    "vcpuNum": 2
   },
   {
    "_defaultOrder": 1,
    "_isFastLaunch": false,
    "category": "General purpose",
    "gpuNum": 0,
    "hideHardwareSpecs": false,
    "memoryGiB": 8,
    "name": "ml.t3.large",
    "vcpuNum": 2
   },
   {
    "_defaultOrder": 2,
    "_isFastLaunch": false,
    "category": "General purpose",
    "gpuNum": 0,
    "hideHardwareSpecs": false,
    "memoryGiB": 16,
    "name": "ml.t3.xlarge",
    "vcpuNum": 4
   },
   {
    "_defaultOrder": 3,
    "_isFastLaunch": false,
    "category": "General purpose",
    "gpuNum": 0,
    "hideHardwareSpecs": false,
    "memoryGiB": 32,
    "name": "ml.t3.2xlarge",
    "vcpuNum": 8
   },
   {
    "_defaultOrder": 4,
    "_isFastLaunch": true,
    "category": "General purpose",
    "gpuNum": 0,
    "hideHardwareSpecs": false,
    "memoryGiB": 8,
    "name": "ml.m5.large",
    "vcpuNum": 2
   },
   {
    "_defaultOrder": 5,
    "_isFastLaunch": false,
    "category": "General purpose",
    "gpuNum": 0,
    "hideHardwareSpecs": false,
    "memoryGiB": 16,
    "name": "ml.m5.xlarge",
    "vcpuNum": 4
   },
   {
    "_defaultOrder": 6,
    "_isFastLaunch": false,
    "category": "General purpose",
    "gpuNum": 0,
    "hideHardwareSpecs": false,
    "memoryGiB": 32,
    "name": "ml.m5.2xlarge",
    "vcpuNum": 8
   },
   {
    "_defaultOrder": 7,
    "_isFastLaunch": false,
    "category": "General purpose",
    "gpuNum": 0,
    "hideHardwareSpecs": false,
    "memoryGiB": 64,
    "name": "ml.m5.4xlarge",
    "vcpuNum": 16
   },
   {
    "_defaultOrder": 8,
    "_isFastLaunch": false,
    "category": "General purpose",
    "gpuNum": 0,
    "hideHardwareSpecs": false,
    "memoryGiB": 128,
    "name": "ml.m5.8xlarge",
    "vcpuNum": 32
   },
   {
    "_defaultOrder": 9,
    "_isFastLaunch": false,
    "category": "General purpose",
    "gpuNum": 0,
    "hideHardwareSpecs": false,
    "memoryGiB": 192,
    "name": "ml.m5.12xlarge",
    "vcpuNum": 48
   },
   {
    "_defaultOrder": 10,
    "_isFastLaunch": false,
    "category": "General purpose",
    "gpuNum": 0,
    "hideHardwareSpecs": false,
    "memoryGiB": 256,
    "name": "ml.m5.16xlarge",
    "vcpuNum": 64
   },
   {
    "_defaultOrder": 11,
    "_isFastLaunch": false,
    "category": "General purpose",
    "gpuNum": 0,
    "hideHardwareSpecs": false,
    "memoryGiB": 384,
    "name": "ml.m5.24xlarge",
    "vcpuNum": 96
   },
   {
    "_defaultOrder": 12,
    "_isFastLaunch": false,
    "category": "General purpose",
    "gpuNum": 0,
    "hideHardwareSpecs": false,
    "memoryGiB": 8,
    "name": "ml.m5d.large",
    "vcpuNum": 2
   },
   {
    "_defaultOrder": 13,
    "_isFastLaunch": false,
    "category": "General purpose",
    "gpuNum": 0,
    "hideHardwareSpecs": false,
    "memoryGiB": 16,
    "name": "ml.m5d.xlarge",
    "vcpuNum": 4
   },
   {
    "_defaultOrder": 14,
    "_isFastLaunch": false,
    "category": "General purpose",
    "gpuNum": 0,
    "hideHardwareSpecs": false,
    "memoryGiB": 32,
    "name": "ml.m5d.2xlarge",
    "vcpuNum": 8
   },
   {
    "_defaultOrder": 15,
    "_isFastLaunch": false,
    "category": "General purpose",
    "gpuNum": 0,
    "hideHardwareSpecs": false,
    "memoryGiB": 64,
    "name": "ml.m5d.4xlarge",
    "vcpuNum": 16
   },
   {
    "_defaultOrder": 16,
    "_isFastLaunch": false,
    "category": "General purpose",
    "gpuNum": 0,
    "hideHardwareSpecs": false,
    "memoryGiB": 128,
    "name": "ml.m5d.8xlarge",
    "vcpuNum": 32
   },
   {
    "_defaultOrder": 17,
    "_isFastLaunch": false,
    "category": "General purpose",
    "gpuNum": 0,
    "hideHardwareSpecs": false,
    "memoryGiB": 192,
    "name": "ml.m5d.12xlarge",
    "vcpuNum": 48
   },
   {
    "_defaultOrder": 18,
    "_isFastLaunch": false,
    "category": "General purpose",
    "gpuNum": 0,
    "hideHardwareSpecs": false,
    "memoryGiB": 256,
    "name": "ml.m5d.16xlarge",
    "vcpuNum": 64
   },
   {
    "_defaultOrder": 19,
    "_isFastLaunch": false,
    "category": "General purpose",
    "gpuNum": 0,
    "hideHardwareSpecs": false,
    "memoryGiB": 384,
    "name": "ml.m5d.24xlarge",
    "vcpuNum": 96
   },
   {
    "_defaultOrder": 20,
    "_isFastLaunch": false,
    "category": "General purpose",
    "gpuNum": 0,
    "hideHardwareSpecs": true,
    "memoryGiB": 0,
    "name": "ml.geospatial.interactive",
    "supportedImageNames": [
     "sagemaker-geospatial-v1-0"
    ],
    "vcpuNum": 0
   },
   {
    "_defaultOrder": 21,
    "_isFastLaunch": true,
    "category": "Compute optimized",
    "gpuNum": 0,
    "hideHardwareSpecs": false,
    "memoryGiB": 4,
    "name": "ml.c5.large",
    "vcpuNum": 2
   },
   {
    "_defaultOrder": 22,
    "_isFastLaunch": false,
    "category": "Compute optimized",
    "gpuNum": 0,
    "hideHardwareSpecs": false,
    "memoryGiB": 8,
    "name": "ml.c5.xlarge",
    "vcpuNum": 4
   },
   {
    "_defaultOrder": 23,
    "_isFastLaunch": false,
    "category": "Compute optimized",
    "gpuNum": 0,
    "hideHardwareSpecs": false,
    "memoryGiB": 16,
    "name": "ml.c5.2xlarge",
    "vcpuNum": 8
   },
   {
    "_defaultOrder": 24,
    "_isFastLaunch": false,
    "category": "Compute optimized",
    "gpuNum": 0,
    "hideHardwareSpecs": false,
    "memoryGiB": 32,
    "name": "ml.c5.4xlarge",
    "vcpuNum": 16
   },
   {
    "_defaultOrder": 25,
    "_isFastLaunch": false,
    "category": "Compute optimized",
    "gpuNum": 0,
    "hideHardwareSpecs": false,
    "memoryGiB": 72,
    "name": "ml.c5.9xlarge",
    "vcpuNum": 36
   },
   {
    "_defaultOrder": 26,
    "_isFastLaunch": false,
    "category": "Compute optimized",
    "gpuNum": 0,
    "hideHardwareSpecs": false,
    "memoryGiB": 96,
    "name": "ml.c5.12xlarge",
    "vcpuNum": 48
   },
   {
    "_defaultOrder": 27,
    "_isFastLaunch": false,
    "category": "Compute optimized",
    "gpuNum": 0,
    "hideHardwareSpecs": false,
    "memoryGiB": 144,
    "name": "ml.c5.18xlarge",
    "vcpuNum": 72
   },
   {
    "_defaultOrder": 28,
    "_isFastLaunch": false,
    "category": "Compute optimized",
    "gpuNum": 0,
    "hideHardwareSpecs": false,
    "memoryGiB": 192,
    "name": "ml.c5.24xlarge",
    "vcpuNum": 96
   },
   {
    "_defaultOrder": 29,
    "_isFastLaunch": true,
    "category": "Accelerated computing",
    "gpuNum": 1,
    "hideHardwareSpecs": false,
    "memoryGiB": 16,
    "name": "ml.g4dn.xlarge",
    "vcpuNum": 4
   },
   {
    "_defaultOrder": 30,
    "_isFastLaunch": false,
    "category": "Accelerated computing",
    "gpuNum": 1,
    "hideHardwareSpecs": false,
    "memoryGiB": 32,
    "name": "ml.g4dn.2xlarge",
    "vcpuNum": 8
   },
   {
    "_defaultOrder": 31,
    "_isFastLaunch": false,
    "category": "Accelerated computing",
    "gpuNum": 1,
    "hideHardwareSpecs": false,
    "memoryGiB": 64,
    "name": "ml.g4dn.4xlarge",
    "vcpuNum": 16
   },
   {
    "_defaultOrder": 32,
    "_isFastLaunch": false,
    "category": "Accelerated computing",
    "gpuNum": 1,
    "hideHardwareSpecs": false,
    "memoryGiB": 128,
    "name": "ml.g4dn.8xlarge",
    "vcpuNum": 32
   },
   {
    "_defaultOrder": 33,
    "_isFastLaunch": false,
    "category": "Accelerated computing",
    "gpuNum": 4,
    "hideHardwareSpecs": false,
    "memoryGiB": 192,
    "name": "ml.g4dn.12xlarge",
    "vcpuNum": 48
   },
   {
    "_defaultOrder": 34,
    "_isFastLaunch": false,
    "category": "Accelerated computing",
    "gpuNum": 1,
    "hideHardwareSpecs": false,
    "memoryGiB": 256,
    "name": "ml.g4dn.16xlarge",
    "vcpuNum": 64
   },
   {
    "_defaultOrder": 35,
    "_isFastLaunch": false,
    "category": "Accelerated computing",
    "gpuNum": 1,
    "hideHardwareSpecs": false,
    "memoryGiB": 61,
    "name": "ml.p3.2xlarge",
    "vcpuNum": 8
   },
   {
    "_defaultOrder": 36,
    "_isFastLaunch": false,
    "category": "Accelerated computing",
    "gpuNum": 4,
    "hideHardwareSpecs": false,
    "memoryGiB": 244,
    "name": "ml.p3.8xlarge",
    "vcpuNum": 32
   },
   {
    "_defaultOrder": 37,
    "_isFastLaunch": false,
    "category": "Accelerated computing",
    "gpuNum": 8,
    "hideHardwareSpecs": false,
    "memoryGiB": 488,
    "name": "ml.p3.16xlarge",
    "vcpuNum": 64
   },
   {
    "_defaultOrder": 38,
    "_isFastLaunch": false,
    "category": "Accelerated computing",
    "gpuNum": 8,
    "hideHardwareSpecs": false,
    "memoryGiB": 768,
    "name": "ml.p3dn.24xlarge",
    "vcpuNum": 96
   },
   {
    "_defaultOrder": 39,
    "_isFastLaunch": false,
    "category": "Memory Optimized",
    "gpuNum": 0,
    "hideHardwareSpecs": false,
    "memoryGiB": 16,
    "name": "ml.r5.large",
    "vcpuNum": 2
   },
   {
    "_defaultOrder": 40,
    "_isFastLaunch": false,
    "category": "Memory Optimized",
    "gpuNum": 0,
    "hideHardwareSpecs": false,
    "memoryGiB": 32,
    "name": "ml.r5.xlarge",
    "vcpuNum": 4
   },
   {
    "_defaultOrder": 41,
    "_isFastLaunch": false,
    "category": "Memory Optimized",
    "gpuNum": 0,
    "hideHardwareSpecs": false,
    "memoryGiB": 64,
    "name": "ml.r5.2xlarge",
    "vcpuNum": 8
   },
   {
    "_defaultOrder": 42,
    "_isFastLaunch": false,
    "category": "Memory Optimized",
    "gpuNum": 0,
    "hideHardwareSpecs": false,
    "memoryGiB": 128,
    "name": "ml.r5.4xlarge",
    "vcpuNum": 16
   },
   {
    "_defaultOrder": 43,
    "_isFastLaunch": false,
    "category": "Memory Optimized",
    "gpuNum": 0,
    "hideHardwareSpecs": false,
    "memoryGiB": 256,
    "name": "ml.r5.8xlarge",
    "vcpuNum": 32
   },
   {
    "_defaultOrder": 44,
    "_isFastLaunch": false,
    "category": "Memory Optimized",
    "gpuNum": 0,
    "hideHardwareSpecs": false,
    "memoryGiB": 384,
    "name": "ml.r5.12xlarge",
    "vcpuNum": 48
   },
   {
    "_defaultOrder": 45,
    "_isFastLaunch": false,
    "category": "Memory Optimized",
    "gpuNum": 0,
    "hideHardwareSpecs": false,
    "memoryGiB": 512,
    "name": "ml.r5.16xlarge",
    "vcpuNum": 64
   },
   {
    "_defaultOrder": 46,
    "_isFastLaunch": false,
    "category": "Memory Optimized",
    "gpuNum": 0,
    "hideHardwareSpecs": false,
    "memoryGiB": 768,
    "name": "ml.r5.24xlarge",
    "vcpuNum": 96
   },
   {
    "_defaultOrder": 47,
    "_isFastLaunch": false,
    "category": "Accelerated computing",
    "gpuNum": 1,
    "hideHardwareSpecs": false,
    "memoryGiB": 16,
    "name": "ml.g5.xlarge",
    "vcpuNum": 4
   },
   {
    "_defaultOrder": 48,
    "_isFastLaunch": false,
    "category": "Accelerated computing",
    "gpuNum": 1,
    "hideHardwareSpecs": false,
    "memoryGiB": 32,
    "name": "ml.g5.2xlarge",
    "vcpuNum": 8
   },
   {
    "_defaultOrder": 49,
    "_isFastLaunch": false,
    "category": "Accelerated computing",
    "gpuNum": 1,
    "hideHardwareSpecs": false,
    "memoryGiB": 64,
    "name": "ml.g5.4xlarge",
    "vcpuNum": 16
   },
   {
    "_defaultOrder": 50,
    "_isFastLaunch": false,
    "category": "Accelerated computing",
    "gpuNum": 1,
    "hideHardwareSpecs": false,
    "memoryGiB": 128,
    "name": "ml.g5.8xlarge",
    "vcpuNum": 32
   },
   {
    "_defaultOrder": 51,
    "_isFastLaunch": false,
    "category": "Accelerated computing",
    "gpuNum": 1,
    "hideHardwareSpecs": false,
    "memoryGiB": 256,
    "name": "ml.g5.16xlarge",
    "vcpuNum": 64
   },
   {
    "_defaultOrder": 52,
    "_isFastLaunch": false,
    "category": "Accelerated computing",
    "gpuNum": 4,
    "hideHardwareSpecs": false,
    "memoryGiB": 192,
    "name": "ml.g5.12xlarge",
    "vcpuNum": 48
   },
   {
    "_defaultOrder": 53,
    "_isFastLaunch": false,
    "category": "Accelerated computing",
    "gpuNum": 4,
    "hideHardwareSpecs": false,
    "memoryGiB": 384,
    "name": "ml.g5.24xlarge",
    "vcpuNum": 96
   },
   {
    "_defaultOrder": 54,
    "_isFastLaunch": false,
    "category": "Accelerated computing",
    "gpuNum": 8,
    "hideHardwareSpecs": false,
    "memoryGiB": 768,
    "name": "ml.g5.48xlarge",
    "vcpuNum": 192
   },
   {
    "_defaultOrder": 55,
    "_isFastLaunch": false,
    "category": "Accelerated computing",
    "gpuNum": 8,
    "hideHardwareSpecs": false,
    "memoryGiB": 1152,
    "name": "ml.p4d.24xlarge",
    "vcpuNum": 96
   },
   {
    "_defaultOrder": 56,
    "_isFastLaunch": false,
    "category": "Accelerated computing",
    "gpuNum": 8,
    "hideHardwareSpecs": false,
    "memoryGiB": 1152,
    "name": "ml.p4de.24xlarge",
    "vcpuNum": 96
   },
   {
    "_defaultOrder": 57,
    "_isFastLaunch": false,
    "category": "Accelerated computing",
    "gpuNum": 0,
    "hideHardwareSpecs": false,
    "memoryGiB": 32,
    "name": "ml.trn1.2xlarge",
    "vcpuNum": 8
   },
   {
    "_defaultOrder": 58,
    "_isFastLaunch": false,
    "category": "Accelerated computing",
    "gpuNum": 0,
    "hideHardwareSpecs": false,
    "memoryGiB": 512,
    "name": "ml.trn1.32xlarge",
    "vcpuNum": 128
   },
   {
    "_defaultOrder": 59,
    "_isFastLaunch": false,
    "category": "Accelerated computing",
    "gpuNum": 0,
    "hideHardwareSpecs": false,
    "memoryGiB": 512,
    "name": "ml.trn1n.32xlarge",
    "vcpuNum": 128
   }
  ],
  "instance_type": "ml.t3.medium",
  "kernelspec": {
   "display_name": "Python 3 (Data Science 3.0)",
   "language": "python",
   "name": "python3__SAGEMAKER_INTERNAL__arn:aws:sagemaker:us-east-1:081325390199:image/sagemaker-data-science-310-v1"
  },
  "language_info": {
   "codemirror_mode": {
    "name": "ipython",
    "version": 3
   },
   "file_extension": ".py",
   "mimetype": "text/x-python",
   "name": "python",
   "nbconvert_exporter": "python",
   "pygments_lexer": "ipython3",
   "version": "3.10.6"
  }
 },
 "nbformat": 4,
 "nbformat_minor": 5
}
